{
 "cells": [
  {
   "cell_type": "code",
   "execution_count": 22,
   "metadata": {},
   "outputs": [
    {
     "name": "stdout",
     "output_type": "stream",
     "text": [
      "0.7071067810992292\n"
     ]
    }
   ],
   "source": [
    "from math import sqrt\n",
    "teste = [ 1,          1.09801714, 1.19509032, 1.29028468, 1.38268343, 1.47139674,\n",
    "\t\t\t\t\t\t\t  1.55557023, 1.63439328, 1.70710678, 1.77301045, 1.83146961, 1.88192126,\n",
    "\t\t\t\t\t\t\t  1.92387953, 1.95694034, 1.98078528, 1.99518473, 2         , 1.99518473,\n",
    "\t\t\t\t\t\t\t  1.98078528, 1.95694034, 1.92387953, 1.88192126, 1.83146961, 1.77301045,\n",
    "\t\t\t\t\t\t\t  1.70710678, 1.63439328, 1.55557023, 1.47139674, 1.38268343, 1.29028468,\n",
    "\t\t\t\t\t\t\t  1.19509032, 1.09801714, 1         , 0.90198286, 0.80490968, 0.70971532,\n",
    "\t\t\t\t\t\t\t  0.61731657, 0.52860326, 0.44442977, 0.36560672, 0.29289322, 0.22698955,\n",
    "\t\t\t\t\t\t\t  0.16853039, 0.11807874, 0.07612047, 0.04305966, 0.01921472, 0.00481527,\n",
    "\t\t\t\t\t\t\t  0         , 0.00481527, 0.01921472, 0.04305966, 0.07612047, 0.11807874,\n",
    "\t\t\t\t\t\t\t  0.16853039, 0.22698955, 0.29289322, 0.36560672, 0.44442977, 0.52860326,\n",
    "\t\t\t\t\t\t\t  0.61731657, 0.70971532, 0.80490968, 0.90198286]\n",
    "\n",
    "teste2 = [1.33974596e-01, 8.91361751e-02, 5.30698705e-02, 2.61230207e-02,\n",
    " 8.55513863e-03, 5.35412524e-04, 2.14107676e-03, 1.33566679e-02,\n",
    " 3.40741737e-02, 6.40940732e-02, 1.03127258e-01, 1.50797818e-01,\n",
    " 2.06646660e-01, 2.70135927e-01, 3.40654185e-01, 4.17522303e-01,\n",
    " 5.00000000e-01, 5.87292970e-01, 6.78560535e-01, 7.72923737e-01,\n",
    " 8.69473808e-01, 9.67280917e-01, 1.06540313e+00, 1.16289547e+00,\n",
    " 1.25881905e+00, 1.35225005e+00, 1.44228869e+00, 1.52806785e+00,\n",
    " 1.60876143e+00, 1.68359230e+00, 1.75183981e+00, 1.81284668e+00,\n",
    " 1.86602540e+00, 1.91086382e+00, 1.94693013e+00, 1.97387698e+00,\n",
    " 1.99144486e+00, 1.99946459e+00, 1.99785892e+00, 1.98664333e+00,\n",
    " 1.96592583e+00, 1.93590593e+00, 1.89687274e+00, 1.84920218e+00,\n",
    " 1.79335334e+00, 1.72986407e+00, 1.65934582e+00, 1.58247770e+00,\n",
    " 1.50000000e+00, 1.41270703e+00, 1.32143947e+00, 1.22707626e+00,\n",
    " 1.13052619e+00, 1.03271908e+00, 9.34596871e-01, 8.37104527e-01,\n",
    " 7.41180955e-01, 6.47749952e-01, 5.57711310e-01, 4.71932149e-01,\n",
    " 3.91238571e-01, 3.16407698e-01, 2.48160193e-01, 1.87153315e-01]\n",
    "\n",
    "teste3 = [1.86602540, 1.81284668, 1.75183981, 1.68359230,\n",
    "          1.60876143, 1.52806785, 1.44228869, 1.35225005,\n",
    "          1.25881905, 1.16289547, 1.06540313, 0.967280917,\n",
    "          0.869473808, 0.772923737, 0.678560535, 0.58729297,\n",
    "          0.5, 0.417522303, 0.340654185, 0.270135927,\n",
    "          0.20664666, 0.150797818, 0.103127258, 0.0640940732,\n",
    "          0.0340741737, 0.0133566679, 0.00214107676, 0.000535412524,\n",
    "          0.00855513863, 0.0261230207, 0.0530698705, 0.0891361751,\n",
    "          0.133974596, 0.187153315, 0.248160193, 0.316407698,\n",
    "          0.391238571, 0.471932149, 0.55771131, 0.647749952,\n",
    "          0.741180955, 0.837104527, 0.934596871, 1.03271908,\n",
    "          1.13052619, 1.22707626, 1.32143947, 1.41270703,\n",
    "          1.5, 1.58247770, 1.65934582, 1.72986407,\n",
    "          1.79335334, 1.84920218, 1.89687274, 1.93590593,\n",
    "          1.96592583, 1.98664333, 1.99785892, 1.99946459,\n",
    "          1.99144486, 1.97387698, 1.94693013, 1.91086382]\n",
    "\n",
    "sum = 0\n",
    "for c in range (len (teste3)):\n",
    "    sum+=(teste3[c]-1)**2\n",
    "print(sqrt(sum/64))"
   ]
  },
  {
   "cell_type": "code",
   "execution_count": 2,
   "metadata": {},
   "outputs": [
    {
     "name": "stdout",
     "output_type": "stream",
     "text": [
      "['Hello ', 'orld']\n"
     ]
    }
   ],
   "source": [
    "input_string = \"Hello World\"\n",
    "result = input_string.split(\"W\")\n",
    "print(result)\n"
   ]
  },
  {
   "cell_type": "code",
   "execution_count": 16,
   "metadata": {},
   "outputs": [
    {
     "name": "stdout",
     "output_type": "stream",
     "text": [
      "Device Number: 12a3\n",
      "Data List: ['3564', '2568', '897', '168']\n"
     ]
    }
   ],
   "source": [
    "def decode_message(message):\n",
    "    # Find the device number\n",
    "    device_number_start = message.find(\"$\") + 1\n",
    "    device_number_end = message.find(\"$\", device_number_start)\n",
    "    device_number = message[device_number_start:device_number_end]\n",
    "\n",
    "    # Find and split the data\n",
    "    data_start = message.find(\"&\") + 1\n",
    "    data_end = message.rfind(\"!\")\n",
    "    data_part = message[data_start:data_end]\n",
    "\n",
    "    # Split the data using \"&\" and filter out empty strings\n",
    "    data_list = [data for data in data_part.split(\"&\") ]\n",
    "\n",
    "    return device_number, data_list\n",
    "\n",
    "# Example usage\n",
    "encoded_message = \"$12a3$&3564&2568&897&168!\"\n",
    "device_number, data_list = decode_message(encoded_message)\n",
    "\n",
    "print(\"Device Number:\", device_number)\n",
    "print(\"Data List:\", data_list)"
   ]
  },
  {
   "cell_type": "code",
   "execution_count": 35,
   "metadata": {},
   "outputs": [
    {
     "name": "stdout",
     "output_type": "stream",
     "text": [
      "[1, 1, 1, 0, 0, 0, 0, 0, 0, 0, 0, 0, 0, 0, 0, 0, 0, 0, 0, 0, 0, 0, 0, 0, 0, 0, 0, 0, 0, 0, 0, 0, 0, 0, 0, 0, 0, 0, 0, 0, 0, 0, 0, 0, 0, 0, 0, 0, 0, 0, 0, 0, 0, 0, 0, 0, 0, 0, 0, 0, 0, 0, 0, 0]\n",
      "[2, 2, 2, 0, 0, 0, 0, 0, 0, 0, 0, 0, 0, 0, 0, 0, 0, 0, 0, 0, 0, 0, 0, 0, 0, 0, 0, 0, 0, 0, 0, 0, 0, 0, 0, 0, 0, 0, 0, 0, 0, 0, 0, 0, 0, 0, 0, 0, 0, 0, 0, 0, 0, 0, 0, 0, 0, 0, 0, 0, 0, 0, 0, 0]\n",
      "[3, 3, 3, 0, 0, 0, 0, 0, 0, 0, 0, 0, 0, 0, 0, 0, 0, 0, 0, 0, 0, 0, 0, 0, 0, 0, 0, 0, 0, 0, 0, 0, 0, 0, 0, 0, 0, 0, 0, 0, 0, 0, 0, 0, 0, 0, 0, 0, 0, 0, 0, 0, 0, 0, 0, 0, 0, 0, 0, 0, 0, 0, 0, 0]\n"
     ]
    }
   ],
   "source": [
    "data = [[0]*64,[0]*64,[0]*64]\n",
    "for c in range(3):\n",
    "\n",
    "    receivedData = [1,2,3]\n",
    "    data[0] = [receivedData[0]] + data[0][:-1]\n",
    "    data[1] = [receivedData[1]] + data[1][:-1]\n",
    "    data[2] = [receivedData[2]] + data[2][:-1]\n",
    "print(data[0])\n",
    "print(data[1])\n",
    "print(data[2])"
   ]
  },
  {
   "cell_type": "code",
   "execution_count": 30,
   "metadata": {},
   "outputs": [
    {
     "ename": "ValueError",
     "evalue": "invalid literal for int() with base 10: '57p'",
     "output_type": "error",
     "traceback": [
      "\u001b[1;31m---------------------------------------------------------------------------\u001b[0m",
      "\u001b[1;31mValueError\u001b[0m                                Traceback (most recent call last)",
      "Cell \u001b[1;32mIn[30], line 2\u001b[0m\n\u001b[0;32m      1\u001b[0m data \u001b[38;5;241m=\u001b[39m \u001b[38;5;124m'\u001b[39m\u001b[38;5;124m25&56&57p&98\u001b[39m\u001b[38;5;124m'\u001b[39m\n\u001b[1;32m----> 2\u001b[0m data_list \u001b[38;5;241m=\u001b[39m [\u001b[38;5;28mint\u001b[39m(t) \u001b[38;5;28;01mfor\u001b[39;00m t \u001b[38;5;129;01min\u001b[39;00m data\u001b[38;5;241m.\u001b[39msplit(\u001b[38;5;124m\"\u001b[39m\u001b[38;5;124m&\u001b[39m\u001b[38;5;124m\"\u001b[39m)]\n\u001b[0;32m      3\u001b[0m \u001b[38;5;28mprint\u001b[39m (data_list)\n",
      "Cell \u001b[1;32mIn[30], line 2\u001b[0m, in \u001b[0;36m<listcomp>\u001b[1;34m(.0)\u001b[0m\n\u001b[0;32m      1\u001b[0m data \u001b[38;5;241m=\u001b[39m \u001b[38;5;124m'\u001b[39m\u001b[38;5;124m25&56&57p&98\u001b[39m\u001b[38;5;124m'\u001b[39m\n\u001b[1;32m----> 2\u001b[0m data_list \u001b[38;5;241m=\u001b[39m [\u001b[38;5;28;43mint\u001b[39;49m\u001b[43m(\u001b[49m\u001b[43mt\u001b[49m\u001b[43m)\u001b[49m \u001b[38;5;28;01mfor\u001b[39;00m t \u001b[38;5;129;01min\u001b[39;00m data\u001b[38;5;241m.\u001b[39msplit(\u001b[38;5;124m\"\u001b[39m\u001b[38;5;124m&\u001b[39m\u001b[38;5;124m\"\u001b[39m)]\n\u001b[0;32m      3\u001b[0m \u001b[38;5;28mprint\u001b[39m (data_list)\n",
      "\u001b[1;31mValueError\u001b[0m: invalid literal for int() with base 10: '57p'"
     ]
    }
   ],
   "source": [
    "data = '25&56&57p&98'\n",
    "data_list = [int(t) for t in data.split(\"&\")]\n",
    "print (data_list)"
   ]
  },
  {
   "cell_type": "code",
   "execution_count": 42,
   "metadata": {},
   "outputs": [
    {
     "name": "stdout",
     "output_type": "stream",
     "text": [
      "[5, 0, 0, 0, 0, 0, 0, 0, 0, 0, 0, 0, 0, 0, 0, 0, 0, 0, 0, 0, 0, 0, 0, 0, 0, 0, 0, 0, 0, 0, 0, 0, 0, 0, 0, 0, 0, 0, 0, 0, 0, 0, 0, 0, 0, 0, 0, 0, 0, 0, 0, 0, 0, 0, 0, 0, 0, 0, 0, 0, 0, 0, 0, 0]\n"
     ]
    }
   ],
   "source": [
    "clientDataBuffer = {}\n",
    "clientDataBuffer[\"addr\"] = [[0]*64,[0]*64,[0]*64]\n",
    "print([5]+clientDataBuffer[\"addr\"][0][:-1])"
   ]
  }
 ],
 "metadata": {
  "kernelspec": {
   "display_name": "Python 3",
   "language": "python",
   "name": "python3"
  },
  "language_info": {
   "codemirror_mode": {
    "name": "ipython",
    "version": 3
   },
   "file_extension": ".py",
   "mimetype": "text/x-python",
   "name": "python",
   "nbconvert_exporter": "python",
   "pygments_lexer": "ipython3",
   "version": "3.10.11"
  }
 },
 "nbformat": 4,
 "nbformat_minor": 2
}
